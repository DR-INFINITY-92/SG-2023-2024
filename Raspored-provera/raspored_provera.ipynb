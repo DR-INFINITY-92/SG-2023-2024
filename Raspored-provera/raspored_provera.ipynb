{
 "cells": [
  {
   "cell_type": "markdown",
   "metadata": {},
   "source": [
    "#  "
   ]
  },
  {
   "cell_type": "code",
   "execution_count": 42,
   "metadata": {},
   "outputs": [],
   "source": [
    "import pandas as pd"
   ]
  },
  {
   "cell_type": "code",
   "execution_count": 43,
   "metadata": {},
   "outputs": [],
   "source": [
    "raspored_provera = pd.read_excel('1-3.xlsx')"
   ]
  },
  {
   "cell_type": "code",
   "execution_count": 44,
   "metadata": {},
   "outputs": [],
   "source": [
    "raspored_provera['Група'].fillna('Цело одељење', inplace=True)"
   ]
  },
  {
   "cell_type": "code",
   "execution_count": 45,
   "metadata": {},
   "outputs": [],
   "source": [
    "raspored_provera.index = range(1, len(raspored_provera) + 1)\n"
   ]
  },
  {
   "cell_type": "code",
   "execution_count": 46,
   "metadata": {},
   "outputs": [],
   "source": [
    "raspored_provera = raspored_provera.rename_axis('Редни број провере', axis=1)\n"
   ]
  },
  {
   "cell_type": "code",
   "execution_count": 47,
   "metadata": {},
   "outputs": [],
   "source": [
    "raspored_provera.drop('Недеља у месецу', axis=1, inplace=True)\n"
   ]
  },
  {
   "cell_type": "code",
   "execution_count": 48,
   "metadata": {},
   "outputs": [],
   "source": [
    "profesori = {'Хемија': 'Оља Радивојевић', 'Математика': 'Милица Цветковић', 'Физика': 'Далибор Рајковић', 'Рачунарски системи': 'Николина Станојевић','Програмирање': 'Далибор Рајковић','Српски језик и књижевност': 'Марија Илић','Примена рачунара': 'Дарко Ђолић','Историја': 'Весна Тирменштајн','Географија': 'Душица Миладиновић'}\n"
   ]
  },
  {
   "cell_type": "code",
   "execution_count": 49,
   "metadata": {},
   "outputs": [],
   "source": [
    "raspored_provera['Предметни професор'] = raspored_provera['Предмет'].map(profesori)\n"
   ]
  },
  {
   "cell_type": "markdown",
   "metadata": {},
   "source": [
    "# Распоред провера у другом пологудишту за одељење 1/3 за школску 2023/24. годину"
   ]
  },
  {
   "cell_type": "code",
   "execution_count": 50,
   "metadata": {},
   "outputs": [
    {
     "data": {
      "text/html": [
       "<div>\n",
       "<style scoped>\n",
       "    .dataframe tbody tr th:only-of-type {\n",
       "        vertical-align: middle;\n",
       "    }\n",
       "\n",
       "    .dataframe tbody tr th {\n",
       "        vertical-align: top;\n",
       "    }\n",
       "\n",
       "    .dataframe thead th {\n",
       "        text-align: right;\n",
       "    }\n",
       "</style>\n",
       "<table border=\"1\" class=\"dataframe\">\n",
       "  <thead>\n",
       "    <tr style=\"text-align: right;\">\n",
       "      <th>Редни број провере</th>\n",
       "      <th>Предмет</th>\n",
       "      <th>Група</th>\n",
       "      <th>Врста</th>\n",
       "      <th>Датум</th>\n",
       "      <th>Садржај рада</th>\n",
       "      <th>Предметни професор</th>\n",
       "    </tr>\n",
       "  </thead>\n",
       "  <tbody>\n",
       "    <tr>\n",
       "      <th>1</th>\n",
       "      <td>Хемија</td>\n",
       "      <td>Цело одељење</td>\n",
       "      <td>писмена вежба</td>\n",
       "      <td>12. 2. 2024.</td>\n",
       "      <td>Дисперзни системи</td>\n",
       "      <td>Оља Радивојевић</td>\n",
       "    </tr>\n",
       "    <tr>\n",
       "      <th>2</th>\n",
       "      <td>Рачунарски системи</td>\n",
       "      <td>Цело одељење</td>\n",
       "      <td>контролни задатак</td>\n",
       "      <td>14. 2. 2024.</td>\n",
       "      <td>Логичке функције</td>\n",
       "      <td>Николина Станојевић</td>\n",
       "    </tr>\n",
       "    <tr>\n",
       "      <th>3</th>\n",
       "      <td>Математика</td>\n",
       "      <td>Цело одељење</td>\n",
       "      <td>писмена вежба</td>\n",
       "      <td>20. 2. 2024.</td>\n",
       "      <td>Примена подударности</td>\n",
       "      <td>Милица Цветковић</td>\n",
       "    </tr>\n",
       "    <tr>\n",
       "      <th>4</th>\n",
       "      <td>Физика</td>\n",
       "      <td>Цело одељење</td>\n",
       "      <td>контролни задатак</td>\n",
       "      <td>23. 2. 2024.</td>\n",
       "      <td>Кретање са убрзањем Г.</td>\n",
       "      <td>Далибор Рајковић</td>\n",
       "    </tr>\n",
       "    <tr>\n",
       "      <th>5</th>\n",
       "      <td>Програмирање</td>\n",
       "      <td>Програмирање вежбе - 1. група</td>\n",
       "      <td>контролни задатак</td>\n",
       "      <td>26. 2. 2024.</td>\n",
       "      <td>Функције.</td>\n",
       "      <td>Далибор Рајковић</td>\n",
       "    </tr>\n",
       "    <tr>\n",
       "      <th>6</th>\n",
       "      <td>Програмирање</td>\n",
       "      <td>Програмирање вежбе - 2. група</td>\n",
       "      <td>контролни задатак</td>\n",
       "      <td>27. 2. 2024.</td>\n",
       "      <td>Функције.</td>\n",
       "      <td>Далибор Рајковић</td>\n",
       "    </tr>\n",
       "    <tr>\n",
       "      <th>7</th>\n",
       "      <td>Српски језик и књижевност</td>\n",
       "      <td>Цело одељење</td>\n",
       "      <td>писмени задатак</td>\n",
       "      <td>8. 3. 2024.</td>\n",
       "      <td>Хеленска књижевност</td>\n",
       "      <td>Марија Илић</td>\n",
       "    </tr>\n",
       "  </tbody>\n",
       "</table>\n",
       "</div>"
      ],
      "text/plain": [
       "Редни број провере                    Предмет                          Група  \\\n",
       "1                                      Хемија                   Цело одељење   \n",
       "2                          Рачунарски системи                   Цело одељење   \n",
       "3                                  Математика                   Цело одељење   \n",
       "4                                      Физика                   Цело одељење   \n",
       "5                                Програмирање  Програмирање вежбе - 1. група   \n",
       "6                                Програмирање  Програмирање вежбе - 2. група   \n",
       "7                   Српски језик и књижевност                   Цело одељење   \n",
       "\n",
       "Редни број провере              Врста         Датум            Садржај рада  \\\n",
       "1                       писмена вежба  12. 2. 2024.       Дисперзни системи   \n",
       "2                   контролни задатак  14. 2. 2024.        Логичке функције   \n",
       "3                       писмена вежба  20. 2. 2024.    Примена подударности   \n",
       "4                   контролни задатак  23. 2. 2024.  Кретање са убрзањем Г.   \n",
       "5                   контролни задатак  26. 2. 2024.               Функције.   \n",
       "6                   контролни задатак  27. 2. 2024.               Функције.   \n",
       "7                     писмени задатак   8. 3. 2024.     Хеленска књижевност   \n",
       "\n",
       "Редни број провере   Предметни професор  \n",
       "1                       Оља Радивојевић  \n",
       "2                   Николина Станојевић  \n",
       "3                      Милица Цветковић  \n",
       "4                      Далибор Рајковић  \n",
       "5                      Далибор Рајковић  \n",
       "6                      Далибор Рајковић  \n",
       "7                           Марија Илић  "
      ]
     },
     "execution_count": 50,
     "metadata": {},
     "output_type": "execute_result"
    }
   ],
   "source": [
    "raspored_provera"
   ]
  },
  {
   "cell_type": "code",
   "execution_count": 51,
   "metadata": {},
   "outputs": [],
   "source": [
    "raspored_provera.to_csv('Распоред_провера.csv', index=False)\n"
   ]
  },
  {
   "cell_type": "code",
   "execution_count": 54,
   "metadata": {},
   "outputs": [],
   "source": [
    "raspored_provera.to_csv('Распоред_провера.csv', index_label='Редни број провере', index=False)\n"
   ]
  }
 ],
 "metadata": {
  "kernelspec": {
   "display_name": "base",
   "language": "python",
   "name": "python3"
  },
  "language_info": {
   "codemirror_mode": {
    "name": "ipython",
    "version": 3
   },
   "file_extension": ".py",
   "mimetype": "text/x-python",
   "name": "python",
   "nbconvert_exporter": "python",
   "pygments_lexer": "ipython3",
   "version": "3.11.5"
  }
 },
 "nbformat": 4,
 "nbformat_minor": 2
}
