{
 "cells": [
  {
   "cell_type": "code",
   "execution_count": 2,
   "metadata": {},
   "outputs": [],
   "source": [
    "import pandas as pd"
   ]
  },
  {
   "cell_type": "code",
   "execution_count": 3,
   "metadata": {},
   "outputs": [],
   "source": [
    "rp = pd.read_excel('1-3.xlsx')"
   ]
  },
  {
   "cell_type": "markdown",
   "metadata": {},
   "source": [
    "# Raspored provera za odeljenje 1/3 za skolsku 2023/2024 godinu"
   ]
  },
  {
   "cell_type": "code",
   "execution_count": 4,
   "metadata": {},
   "outputs": [
    {
     "data": {
      "text/html": [
       "<div>\n",
       "<style scoped>\n",
       "    .dataframe tbody tr th:only-of-type {\n",
       "        vertical-align: middle;\n",
       "    }\n",
       "\n",
       "    .dataframe tbody tr th {\n",
       "        vertical-align: top;\n",
       "    }\n",
       "\n",
       "    .dataframe thead th {\n",
       "        text-align: right;\n",
       "    }\n",
       "</style>\n",
       "<table border=\"1\" class=\"dataframe\">\n",
       "  <thead>\n",
       "    <tr style=\"text-align: right;\">\n",
       "      <th></th>\n",
       "      <th>Предмет</th>\n",
       "      <th>Група</th>\n",
       "      <th>Врста</th>\n",
       "      <th>Датум</th>\n",
       "      <th>Недеља у месецу</th>\n",
       "      <th>Садржај рада</th>\n",
       "    </tr>\n",
       "  </thead>\n",
       "  <tbody>\n",
       "    <tr>\n",
       "      <th>0</th>\n",
       "      <td>Хемија</td>\n",
       "      <td>NaN</td>\n",
       "      <td>писмена вежба</td>\n",
       "      <td>12. 2. 2024.</td>\n",
       "      <td>3/02</td>\n",
       "      <td>Дисперзни системи</td>\n",
       "    </tr>\n",
       "    <tr>\n",
       "      <th>1</th>\n",
       "      <td>Рачунарски системи</td>\n",
       "      <td>NaN</td>\n",
       "      <td>контролни задатак</td>\n",
       "      <td>14. 2. 2024.</td>\n",
       "      <td>3/02</td>\n",
       "      <td>Логичке функције</td>\n",
       "    </tr>\n",
       "    <tr>\n",
       "      <th>2</th>\n",
       "      <td>Математика</td>\n",
       "      <td>NaN</td>\n",
       "      <td>писмена вежба</td>\n",
       "      <td>20. 2. 2024.</td>\n",
       "      <td>4/02</td>\n",
       "      <td>Примена подударности</td>\n",
       "    </tr>\n",
       "    <tr>\n",
       "      <th>3</th>\n",
       "      <td>Физика</td>\n",
       "      <td>NaN</td>\n",
       "      <td>контролни задатак</td>\n",
       "      <td>23. 2. 2024.</td>\n",
       "      <td>4/02</td>\n",
       "      <td>Кретање са убрзањем Г.</td>\n",
       "    </tr>\n",
       "    <tr>\n",
       "      <th>4</th>\n",
       "      <td>Програмирање</td>\n",
       "      <td>Програмирање вежбе - 1. група</td>\n",
       "      <td>контролни задатак</td>\n",
       "      <td>26. 2. 2024.</td>\n",
       "      <td>5/02</td>\n",
       "      <td>Функције.</td>\n",
       "    </tr>\n",
       "    <tr>\n",
       "      <th>5</th>\n",
       "      <td>Програмирање</td>\n",
       "      <td>Програмирање вежбе - 2. група</td>\n",
       "      <td>контролни задатак</td>\n",
       "      <td>27. 2. 2024.</td>\n",
       "      <td>5/02</td>\n",
       "      <td>Функције.</td>\n",
       "    </tr>\n",
       "    <tr>\n",
       "      <th>6</th>\n",
       "      <td>Српски језик и књижевност</td>\n",
       "      <td>NaN</td>\n",
       "      <td>писмени задатак</td>\n",
       "      <td>8. 3. 2024.</td>\n",
       "      <td>2/03</td>\n",
       "      <td>Хеленска књижевност</td>\n",
       "    </tr>\n",
       "  </tbody>\n",
       "</table>\n",
       "</div>"
      ],
      "text/plain": [
       "                     Предмет                          Група  \\\n",
       "0                     Хемија                            NaN   \n",
       "1         Рачунарски системи                            NaN   \n",
       "2                 Математика                            NaN   \n",
       "3                     Физика                            NaN   \n",
       "4               Програмирање  Програмирање вежбе - 1. група   \n",
       "5               Програмирање  Програмирање вежбе - 2. група   \n",
       "6  Српски језик и књижевност                            NaN   \n",
       "\n",
       "               Врста         Датум Недеља у месецу            Садржај рада  \n",
       "0      писмена вежба  12. 2. 2024.            3/02       Дисперзни системи  \n",
       "1  контролни задатак  14. 2. 2024.            3/02        Логичке функције  \n",
       "2      писмена вежба  20. 2. 2024.            4/02    Примена подударности  \n",
       "3  контролни задатак  23. 2. 2024.            4/02  Кретање са убрзањем Г.  \n",
       "4  контролни задатак  26. 2. 2024.            5/02               Функције.  \n",
       "5  контролни задатак  27. 2. 2024.            5/02               Функције.  \n",
       "6    писмени задатак   8. 3. 2024.            2/03     Хеленска књижевност  "
      ]
     },
     "execution_count": 4,
     "metadata": {},
     "output_type": "execute_result"
    }
   ],
   "source": [
    "rp"
   ]
  }
 ],
 "metadata": {
  "kernelspec": {
   "display_name": "base",
   "language": "python",
   "name": "python3"
  },
  "language_info": {
   "codemirror_mode": {
    "name": "ipython",
    "version": 3
   },
   "file_extension": ".py",
   "mimetype": "text/x-python",
   "name": "python",
   "nbconvert_exporter": "python",
   "pygments_lexer": "ipython3",
   "version": "3.11.5"
  }
 },
 "nbformat": 4,
 "nbformat_minor": 2
}
